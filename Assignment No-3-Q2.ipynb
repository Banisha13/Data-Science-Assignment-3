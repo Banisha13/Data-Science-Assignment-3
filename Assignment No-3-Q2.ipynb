{
 "cells": [
  {
   "cell_type": "markdown",
   "id": "083cfdaa",
   "metadata": {},
   "source": [
    "# Data Science Assignment No-3"
   ]
  },
  {
   "cell_type": "markdown",
   "id": "bb15bc7f",
   "metadata": {},
   "source": [
    "# Question No-2"
   ]
  },
  {
   "attachments": {},
   "cell_type": "markdown",
   "id": "08b2e297",
   "metadata": {},
   "source": [
    "##    A hospital wants to determine whether there is any difference in the average Turn Around Time (TAT) of reports of the laboratories on their preferred list. They collected a random sample and recorded TAT for reports of 4 laboratories. TAT is defined as sample collected to report dispatch.\n",
    "   \n",
    "  Analyze the data and determine whether there is any difference in average TAT among the different laboratories at 5% significance level.\n",
    " \n",
    "Minitab File: LabTAT.mtw\n"
   ]
  },
  {
   "cell_type": "code",
   "execution_count": 2,
   "id": "df27871f",
   "metadata": {},
   "outputs": [],
   "source": [
    "#import the libraries\n",
    "import pandas as pd\n",
    "import scipy \n",
    "import numpy as np\n",
    "from scipy import stats\n",
    "import scipy.stats as stats"
   ]
  },
  {
   "cell_type": "code",
   "execution_count": 3,
   "id": "58937b63",
   "metadata": {},
   "outputs": [],
   "source": [
    "# Hypthesis testing \n",
    "# H0 = There is no difference in the average TAT among 4 laboratories\n",
    "# H1 = There is a difference in the average TAT among 4 laboratories\n",
    "\n",
    "# Which test to be used ?\n",
    "# We will use Anova as we need to compare the average TAT among 4 different laboratories\n",
    "\n",
    "# About Anova - Analysis of Variance( ANOVA ) is a statistical technique which is used to check if the means of two or more groups are statistically different from each other.\n",
    "\n",
    "\n",
    "# alpha = 0.05 as it is given to drwa inferences at 5% significance level"
   ]
  },
  {
   "cell_type": "code",
   "execution_count": 4,
   "id": "eeb3b6ca",
   "metadata": {},
   "outputs": [],
   "source": [
    "laboratories = pd.read_csv(\"LabTAT.csv\")"
   ]
  },
  {
   "cell_type": "code",
   "execution_count": 5,
   "id": "90341e6b",
   "metadata": {},
   "outputs": [
    {
     "data": {
      "text/html": [
       "<div>\n",
       "<style scoped>\n",
       "    .dataframe tbody tr th:only-of-type {\n",
       "        vertical-align: middle;\n",
       "    }\n",
       "\n",
       "    .dataframe tbody tr th {\n",
       "        vertical-align: top;\n",
       "    }\n",
       "\n",
       "    .dataframe thead th {\n",
       "        text-align: right;\n",
       "    }\n",
       "</style>\n",
       "<table border=\"1\" class=\"dataframe\">\n",
       "  <thead>\n",
       "    <tr style=\"text-align: right;\">\n",
       "      <th></th>\n",
       "      <th>Laboratory 1</th>\n",
       "      <th>Laboratory 2</th>\n",
       "      <th>Laboratory 3</th>\n",
       "      <th>Laboratory 4</th>\n",
       "    </tr>\n",
       "  </thead>\n",
       "  <tbody>\n",
       "    <tr>\n",
       "      <th>0</th>\n",
       "      <td>185.35</td>\n",
       "      <td>165.53</td>\n",
       "      <td>176.70</td>\n",
       "      <td>166.13</td>\n",
       "    </tr>\n",
       "    <tr>\n",
       "      <th>1</th>\n",
       "      <td>170.49</td>\n",
       "      <td>185.91</td>\n",
       "      <td>198.45</td>\n",
       "      <td>160.79</td>\n",
       "    </tr>\n",
       "    <tr>\n",
       "      <th>2</th>\n",
       "      <td>192.77</td>\n",
       "      <td>194.92</td>\n",
       "      <td>201.23</td>\n",
       "      <td>185.18</td>\n",
       "    </tr>\n",
       "    <tr>\n",
       "      <th>3</th>\n",
       "      <td>177.33</td>\n",
       "      <td>183.00</td>\n",
       "      <td>199.61</td>\n",
       "      <td>176.42</td>\n",
       "    </tr>\n",
       "    <tr>\n",
       "      <th>4</th>\n",
       "      <td>193.41</td>\n",
       "      <td>169.57</td>\n",
       "      <td>204.63</td>\n",
       "      <td>152.60</td>\n",
       "    </tr>\n",
       "  </tbody>\n",
       "</table>\n",
       "</div>"
      ],
      "text/plain": [
       "   Laboratory 1  Laboratory 2  Laboratory 3  Laboratory 4\n",
       "0        185.35        165.53        176.70        166.13\n",
       "1        170.49        185.91        198.45        160.79\n",
       "2        192.77        194.92        201.23        185.18\n",
       "3        177.33        183.00        199.61        176.42\n",
       "4        193.41        169.57        204.63        152.60"
      ]
     },
     "execution_count": 5,
     "metadata": {},
     "output_type": "execute_result"
    }
   ],
   "source": [
    "laboratories.head()"
   ]
  },
  {
   "cell_type": "code",
   "execution_count": 8,
   "id": "2e5ff8f5",
   "metadata": {},
   "outputs": [],
   "source": [
    "statistics = stats.f_oneway(laboratories[\"Laboratory 1\"], laboratories[\"Laboratory 2\"], laboratories[\"Laboratory 3\"], laboratories[\"Laboratory 4\"])"
   ]
  },
  {
   "cell_type": "code",
   "execution_count": 10,
   "id": "da338b3d",
   "metadata": {},
   "outputs": [
    {
     "data": {
      "text/plain": [
       "F_onewayResult(statistic=118.70421654401437, pvalue=2.1156708949992414e-57)"
      ]
     },
     "execution_count": 10,
     "metadata": {},
     "output_type": "execute_result"
    }
   ],
   "source": [
    "statistics"
   ]
  },
  {
   "cell_type": "code",
   "execution_count": 9,
   "id": "c602a66a",
   "metadata": {},
   "outputs": [
    {
     "data": {
      "text/plain": [
       "2.1156708949992414e-57"
      ]
     },
     "execution_count": 9,
     "metadata": {},
     "output_type": "execute_result"
    }
   ],
   "source": [
    "statistics[1] # to get the p value"
   ]
  },
  {
   "cell_type": "code",
   "execution_count": null,
   "id": "a2f42aa6",
   "metadata": {},
   "outputs": [],
   "source": [
    "# since p value is greater than alpha - we fail to reject the null\n",
    "# hence there is no difference in the average TAT among 4 different laboratories at 5% significance level "
   ]
  }
 ],
 "metadata": {
  "kernelspec": {
   "display_name": "Python 3 (ipykernel)",
   "language": "python",
   "name": "python3"
  },
  "language_info": {
   "codemirror_mode": {
    "name": "ipython",
    "version": 3
   },
   "file_extension": ".py",
   "mimetype": "text/x-python",
   "name": "python",
   "nbconvert_exporter": "python",
   "pygments_lexer": "ipython3",
   "version": "3.11.4"
  }
 },
 "nbformat": 4,
 "nbformat_minor": 5
}
