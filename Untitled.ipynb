{
 "cells": [
  {
   "cell_type": "markdown",
   "id": "d67126eb",
   "metadata": {},
   "source": [
    "# Data Science Assignment No-3\n"
   ]
  },
  {
   "cell_type": "markdown",
   "id": "fc8875dd",
   "metadata": {},
   "source": [
    "# Question No-1\n"
   ]
  },
  {
   "cell_type": "code",
   "execution_count": 7,
   "id": "3063889c",
   "metadata": {},
   "outputs": [],
   "source": [
    "import pandas as pd\n",
    "import numpy as np\n",
    "from scipy import stats"
   ]
  },
  {
   "cell_type": "code",
   "execution_count": 8,
   "id": "c67235e3",
   "metadata": {},
   "outputs": [],
   "source": [
    "# Hypthesis testing \n",
    "# H0 = There is no difference in the diameter of the cutlet between two units\n",
    "# H1 = There is a difference in the diameter of the cutlet between two units\n",
    "\n",
    "# Which test to be used ?\n",
    "# We will use t-test as it is based on sample data and not the population data\n",
    "\n",
    "# alpha = 0.05 as it is given to drwa inferences at 5% significance level"
   ]
  },
  {
   "cell_type": "code",
   "execution_count": 9,
   "id": "f1797eec",
   "metadata": {},
   "outputs": [],
   "source": [
    "cutlet = pd.read_csv(\"Cutlets.csv\")"
   ]
  },
  {
   "cell_type": "code",
   "execution_count": 10,
   "id": "f13c0f31",
   "metadata": {},
   "outputs": [
    {
     "data": {
      "text/html": [
       "<div>\n",
       "<style scoped>\n",
       "    .dataframe tbody tr th:only-of-type {\n",
       "        vertical-align: middle;\n",
       "    }\n",
       "\n",
       "    .dataframe tbody tr th {\n",
       "        vertical-align: top;\n",
       "    }\n",
       "\n",
       "    .dataframe thead th {\n",
       "        text-align: right;\n",
       "    }\n",
       "</style>\n",
       "<table border=\"1\" class=\"dataframe\">\n",
       "  <thead>\n",
       "    <tr style=\"text-align: right;\">\n",
       "      <th></th>\n",
       "      <th>Unit A</th>\n",
       "      <th>Unit B</th>\n",
       "    </tr>\n",
       "  </thead>\n",
       "  <tbody>\n",
       "    <tr>\n",
       "      <th>0</th>\n",
       "      <td>6.8090</td>\n",
       "      <td>6.7703</td>\n",
       "    </tr>\n",
       "    <tr>\n",
       "      <th>1</th>\n",
       "      <td>6.4376</td>\n",
       "      <td>7.5093</td>\n",
       "    </tr>\n",
       "    <tr>\n",
       "      <th>2</th>\n",
       "      <td>6.9157</td>\n",
       "      <td>6.7300</td>\n",
       "    </tr>\n",
       "    <tr>\n",
       "      <th>3</th>\n",
       "      <td>7.3012</td>\n",
       "      <td>6.7878</td>\n",
       "    </tr>\n",
       "    <tr>\n",
       "      <th>4</th>\n",
       "      <td>7.4488</td>\n",
       "      <td>7.1522</td>\n",
       "    </tr>\n",
       "  </tbody>\n",
       "</table>\n",
       "</div>"
      ],
      "text/plain": [
       "   Unit A  Unit B\n",
       "0  6.8090  6.7703\n",
       "1  6.4376  7.5093\n",
       "2  6.9157  6.7300\n",
       "3  7.3012  6.7878\n",
       "4  7.4488  7.1522"
      ]
     },
     "execution_count": 10,
     "metadata": {},
     "output_type": "execute_result"
    }
   ],
   "source": [
    "cutlet.head()"
   ]
  },
  {
   "cell_type": "code",
   "execution_count": 11,
   "id": "53196eab",
   "metadata": {},
   "outputs": [
    {
     "data": {
      "text/plain": [
       "0    6.8090\n",
       "1    6.4376\n",
       "2    6.9157\n",
       "3    7.3012\n",
       "4    7.4488\n",
       "Name: Unit A, dtype: float64"
      ]
     },
     "execution_count": 11,
     "metadata": {},
     "output_type": "execute_result"
    }
   ],
   "source": [
    "cutlet_unitA = pd.Series(cutlet.iloc[:,0]) # for unit A\n",
    "cutlet_unitA.head()"
   ]
  },
  {
   "cell_type": "code",
   "execution_count": 12,
   "id": "00e63bd8",
   "metadata": {},
   "outputs": [
    {
     "data": {
      "text/plain": [
       "0    6.7703\n",
       "1    7.5093\n",
       "2    6.7300\n",
       "3    6.7878\n",
       "4    7.1522\n",
       "Name: Unit B, dtype: float64"
      ]
     },
     "execution_count": 12,
     "metadata": {},
     "output_type": "execute_result"
    }
   ],
   "source": [
    "cutlet_unitB = pd.Series(cutlet.iloc[:,1]) # for unit B\n",
    "cutlet_unitB.head()"
   ]
  },
  {
   "cell_type": "code",
   "execution_count": 13,
   "id": "cef9aa13",
   "metadata": {},
   "outputs": [
    {
     "data": {
      "text/plain": [
       "Ttest_indResult(statistic=0.7228688704678063, pvalue=0.4722394724599501)"
      ]
     },
     "execution_count": 13,
     "metadata": {},
     "output_type": "execute_result"
    }
   ],
   "source": [
    "# Computing p-value from t-value\n",
    "\n",
    "statistics = stats.ttest_ind(cutlet_unitA, cutlet_unitB)\n",
    "statistics"
   ]
  },
  {
   "cell_type": "code",
   "execution_count": 14,
   "id": "ce820484",
   "metadata": {},
   "outputs": [
    {
     "data": {
      "text/plain": [
       "0.4722394724599501"
      ]
     },
     "execution_count": 14,
     "metadata": {},
     "output_type": "execute_result"
    }
   ],
   "source": [
    "statistics[1] # for p-value"
   ]
  },
  {
   "cell_type": "code",
   "execution_count": null,
   "id": "3b4fe805",
   "metadata": {},
   "outputs": [],
   "source": [
    "# Comparing p value with alpha\n",
    "# p value = 0.472\n",
    "# alpha = 0.05\n",
    "\n",
    "#Since p value is greater than alpha - we fail to reject the null, hence we ac"
   ]
  }
 ],
 "metadata": {
  "kernelspec": {
   "display_name": "Python 3 (ipykernel)",
   "language": "python",
   "name": "python3"
  },
  "language_info": {
   "codemirror_mode": {
    "name": "ipython",
    "version": 3
   },
   "file_extension": ".py",
   "mimetype": "text/x-python",
   "name": "python",
   "nbconvert_exporter": "python",
   "pygments_lexer": "ipython3",
   "version": "3.11.4"
  }
 },
 "nbformat": 4,
 "nbformat_minor": 5
}
