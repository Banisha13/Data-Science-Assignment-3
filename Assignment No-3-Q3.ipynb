{
 "cells": [
  {
   "cell_type": "markdown",
   "id": "8c837f13",
   "metadata": {},
   "source": [
    "# Question No- 3"
   ]
  },
  {
   "attachments": {},
   "cell_type": "markdown",
   "id": "8d65f3ae",
   "metadata": {},
   "source": [
    "## Sales of products in four different regions is tabulated for males and females. Find if male-female buyer rations are similar across regions.\n",
    "\n"
   ]
  },
  {
   "cell_type": "code",
   "execution_count": null,
   "id": "999ced3c",
   "metadata": {},
   "outputs": [],
   "source": [
    "#import the libraries\n",
    "import pandas as pd\n",
    "import scipy \n",
    "import numpy as np\n",
    "from scipy import stats\n",
    "from scipy.stats import chi2_contingency"
   ]
  },
  {
   "cell_type": "code",
   "execution_count": 6,
   "id": "701abce5",
   "metadata": {},
   "outputs": [],
   "source": [
    "df = pd.read_csv(\"BuyerRatio.csv\")"
   ]
  },
  {
   "cell_type": "code",
   "execution_count": 7,
   "id": "93df3ebe",
   "metadata": {},
   "outputs": [],
   "source": [
    "# Hypthesis testing \n",
    "# H0 = All proportions are equal (Given)\n",
    "# H1 = Not all proportions are equal (Given)\n",
    "\n",
    "# Which test to be used ?\n",
    "# We will use Chi-Square test, as we need to see whether there exists relation  between 2 independent qualitative variables which are categorical in nature, i.e., male & female\n",
    "\n",
    "# About Chi-Square test - Chi-square tests of independence test whether two qualitative variables are independent, that is, whether there exists a relationship between two categorical variables\n",
    "\n",
    "\n",
    "# alpha = 0.05 as it is given to drwa inferences at 5% significance level"
   ]
  },
  {
   "cell_type": "code",
   "execution_count": 8,
   "id": "e82c8fd1",
   "metadata": {},
   "outputs": [
    {
     "data": {
      "text/plain": [
       "Chi2ContingencyResult(statistic=1.5959455386610577, pvalue=0.6603094907091882, dof=3, expected_freq=array([[  42.76531299,  442.23468701],\n",
       "       [ 146.81287862, 1518.18712138],\n",
       "       [ 131.11756787, 1355.88243213],\n",
       "       [  72.30424052,  747.69575948]]))"
      ]
     },
     "execution_count": 8,
     "metadata": {},
     "output_type": "execute_result"
    }
   ],
   "source": [
    "stats.chi2_contingency([df[\"East\"], df[\"West\"], df[\"North\"], df[\"South\"]])"
   ]
  },
  {
   "cell_type": "markdown",
   "id": "4fd80dbc",
   "metadata": {},
   "source": [
    "## The P value is 0.66 which is greater than alpha, hence we fail to reject the Null hypothesis. \n",
    "## This suggests that we accept the null hypothesis. That is All proportions are equal or the male and female buyer rations are similar across the region. "
   ]
  },
  {
   "cell_type": "code",
   "execution_count": null,
   "id": "afde06c0",
   "metadata": {},
   "outputs": [],
   "source": []
  }
 ],
 "metadata": {
  "kernelspec": {
   "display_name": "Python 3 (ipykernel)",
   "language": "python",
   "name": "python3"
  },
  "language_info": {
   "codemirror_mode": {
    "name": "ipython",
    "version": 3
   },
   "file_extension": ".py",
   "mimetype": "text/x-python",
   "name": "python",
   "nbconvert_exporter": "python",
   "pygments_lexer": "ipython3",
   "version": "3.11.4"
  }
 },
 "nbformat": 4,
 "nbformat_minor": 5
}
