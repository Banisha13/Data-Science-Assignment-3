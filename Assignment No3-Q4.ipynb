{
 "cells": [
  {
   "cell_type": "markdown",
   "id": "8de7a759",
   "metadata": {},
   "source": [
    "# Assignment No-3"
   ]
  },
  {
   "cell_type": "markdown",
   "id": "1ea7b52e",
   "metadata": {},
   "source": [
    "# Question No-4"
   ]
  },
  {
   "cell_type": "markdown",
   "id": "8376b886",
   "metadata": {},
   "source": [
    "### TeleCall uses 4 centers around the globe to process customer order forms. They audit a certain %  of the customer order forms. Any error in order form renders it defective and has to be reworked before processing.  The manager wants to check whether the defective %  varies by centre. Please analyze the data at 5% significance level and help the manager draw appropriate inferences\n",
    "\n",
    "Minitab File: CustomerOrderForm.mtw\n"
   ]
  },
  {
   "cell_type": "code",
   "execution_count": 4,
   "id": "6178b0a6",
   "metadata": {},
   "outputs": [],
   "source": [
    "import pandas as pd\n",
    "from scipy import stats as stats\n",
    "from scipy.stats import chi2_contingency\n",
    "from scipy.stats import chi2"
   ]
  },
  {
   "cell_type": "code",
   "execution_count": 5,
   "id": "95c3454a",
   "metadata": {},
   "outputs": [],
   "source": [
    "telecall = pd.read_csv(\"Costomer+OrderForm.csv\")"
   ]
  },
  {
   "cell_type": "code",
   "execution_count": 6,
   "id": "8d591642",
   "metadata": {},
   "outputs": [
    {
     "data": {
      "text/html": [
       "<div>\n",
       "<style scoped>\n",
       "    .dataframe tbody tr th:only-of-type {\n",
       "        vertical-align: middle;\n",
       "    }\n",
       "\n",
       "    .dataframe tbody tr th {\n",
       "        vertical-align: top;\n",
       "    }\n",
       "\n",
       "    .dataframe thead th {\n",
       "        text-align: right;\n",
       "    }\n",
       "</style>\n",
       "<table border=\"1\" class=\"dataframe\">\n",
       "  <thead>\n",
       "    <tr style=\"text-align: right;\">\n",
       "      <th></th>\n",
       "      <th>Phillippines</th>\n",
       "      <th>Indonesia</th>\n",
       "      <th>Malta</th>\n",
       "      <th>India</th>\n",
       "    </tr>\n",
       "  </thead>\n",
       "  <tbody>\n",
       "    <tr>\n",
       "      <th>0</th>\n",
       "      <td>Error Free</td>\n",
       "      <td>Error Free</td>\n",
       "      <td>Defective</td>\n",
       "      <td>Error Free</td>\n",
       "    </tr>\n",
       "    <tr>\n",
       "      <th>1</th>\n",
       "      <td>Error Free</td>\n",
       "      <td>Error Free</td>\n",
       "      <td>Error Free</td>\n",
       "      <td>Defective</td>\n",
       "    </tr>\n",
       "    <tr>\n",
       "      <th>2</th>\n",
       "      <td>Error Free</td>\n",
       "      <td>Defective</td>\n",
       "      <td>Defective</td>\n",
       "      <td>Error Free</td>\n",
       "    </tr>\n",
       "    <tr>\n",
       "      <th>3</th>\n",
       "      <td>Error Free</td>\n",
       "      <td>Error Free</td>\n",
       "      <td>Error Free</td>\n",
       "      <td>Error Free</td>\n",
       "    </tr>\n",
       "    <tr>\n",
       "      <th>4</th>\n",
       "      <td>Error Free</td>\n",
       "      <td>Error Free</td>\n",
       "      <td>Defective</td>\n",
       "      <td>Error Free</td>\n",
       "    </tr>\n",
       "  </tbody>\n",
       "</table>\n",
       "</div>"
      ],
      "text/plain": [
       "  Phillippines   Indonesia       Malta       India\n",
       "0   Error Free  Error Free   Defective  Error Free\n",
       "1   Error Free  Error Free  Error Free   Defective\n",
       "2   Error Free   Defective   Defective  Error Free\n",
       "3   Error Free  Error Free  Error Free  Error Free\n",
       "4   Error Free  Error Free   Defective  Error Free"
      ]
     },
     "execution_count": 6,
     "metadata": {},
     "output_type": "execute_result"
    }
   ],
   "source": [
    "telecall.head()"
   ]
  },
  {
   "cell_type": "code",
   "execution_count": 7,
   "id": "d814b4e6",
   "metadata": {},
   "outputs": [
    {
     "name": "stdout",
     "output_type": "stream",
     "text": [
      "Error Free    271\n",
      "Defective      29\n",
      "Name: Phillippines, dtype: int64 Error Free    267\n",
      "Defective      33\n",
      "Name: Indonesia, dtype: int64 Error Free    269\n",
      "Defective      31\n",
      "Name: Malta, dtype: int64 Error Free    280\n",
      "Defective      20\n",
      "Name: India, dtype: int64\n"
     ]
    }
   ],
   "source": [
    "# as there are two types of categorical data as Error free and Defective we will take the count of the same country wise\n",
    "\n",
    "print(telecall['Phillippines'].value_counts(),telecall['Indonesia'].value_counts(),telecall['Malta'].value_counts(),telecall['India'].value_counts())"
   ]
  },
  {
   "cell_type": "code",
   "execution_count": 8,
   "id": "74d2507e",
   "metadata": {},
   "outputs": [],
   "source": [
    "data = ([[267,269,280],[33,31,20]])"
   ]
  },
  {
   "cell_type": "code",
   "execution_count": 9,
   "id": "7373de7b",
   "metadata": {},
   "outputs": [
    {
     "data": {
      "text/plain": [
       "[[267, 269, 280], [33, 31, 20]]"
      ]
     },
     "execution_count": 9,
     "metadata": {},
     "output_type": "execute_result"
    }
   ],
   "source": [
    "data"
   ]
  },
  {
   "cell_type": "code",
   "execution_count": 10,
   "id": "bf5ed8ec",
   "metadata": {},
   "outputs": [],
   "source": [
    "# alpha = 0.05 as it is given to draw inferences at 5% significance level \n",
    "\n",
    "# Hypothesis testing \n",
    "# Ho = The defective does not vary by centre\n",
    "# H1 = The defective vary by Centre \n",
    "\n",
    "\n",
    "\n",
    "# Which test to be used ?\n",
    "# We will use Chi-Square test, as we need to see whether there exists relation  between 2 independent qualitative variables which are categorical in nature, i.e., Error free and Defective\n",
    "\n",
    "# About Chi-Square test - Chi-square tests of independence test whether two qualitative variables are independent, that is, whether there exists a relationship between two categorical variables\n"
   ]
  },
  {
   "cell_type": "code",
   "execution_count": 11,
   "id": "1a703e1a",
   "metadata": {},
   "outputs": [],
   "source": [
    "stat, p, dof, expected = chi2_contingency(data)"
   ]
  },
  {
   "cell_type": "code",
   "execution_count": 12,
   "id": "70c79060",
   "metadata": {},
   "outputs": [
    {
     "data": {
      "text/plain": [
       "0.14512685472974943"
      ]
     },
     "execution_count": 12,
     "metadata": {},
     "output_type": "execute_result"
    }
   ],
   "source": [
    "p"
   ]
  },
  {
   "cell_type": "markdown",
   "id": "68a6bc7e",
   "metadata": {},
   "source": [
    "# Since p value is greater than alpha we fail to reject to null hypothesis\n",
    "# Hence Ho holds true, which means that the defective does not vary by centre "
   ]
  },
  {
   "cell_type": "code",
   "execution_count": null,
   "id": "fae90e9c",
   "metadata": {},
   "outputs": [],
   "source": []
  }
 ],
 "metadata": {
  "kernelspec": {
   "display_name": "Python 3 (ipykernel)",
   "language": "python",
   "name": "python3"
  },
  "language_info": {
   "codemirror_mode": {
    "name": "ipython",
    "version": 3
   },
   "file_extension": ".py",
   "mimetype": "text/x-python",
   "name": "python",
   "nbconvert_exporter": "python",
   "pygments_lexer": "ipython3",
   "version": "3.11.4"
  }
 },
 "nbformat": 4,
 "nbformat_minor": 5
}
